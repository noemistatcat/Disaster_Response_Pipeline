{
 "cells": [
  {
   "cell_type": "markdown",
   "metadata": {},
   "source": [
    "# ML Pipeline Preparation\n",
    "Follow the instructions below to help you create your ML pipeline.\n",
    "### 1. Import libraries and load data from database.\n",
    "- Import Python libraries\n",
    "- Load dataset from database with [`read_sql_table`](https://pandas.pydata.org/pandas-docs/stable/generated/pandas.read_sql_table.html)\n",
    "- Define feature and target variables X and Y"
   ]
  },
  {
   "cell_type": "code",
   "execution_count": 1,
   "metadata": {
    "scrolled": true
   },
   "outputs": [
    {
     "name": "stderr",
     "output_type": "stream",
     "text": [
      "[nltk_data] Downloading package punkt to C:\\Users\\Noemi\n",
      "[nltk_data]     Ramiro\\AppData\\Roaming\\nltk_data...\n",
      "[nltk_data]   Package punkt is already up-to-date!\n",
      "[nltk_data] Downloading package stopwords to C:\\Users\\Noemi\n",
      "[nltk_data]     Ramiro\\AppData\\Roaming\\nltk_data...\n",
      "[nltk_data]   Package stopwords is already up-to-date!\n",
      "[nltk_data] Downloading package wordnet to C:\\Users\\Noemi\n",
      "[nltk_data]     Ramiro\\AppData\\Roaming\\nltk_data...\n",
      "[nltk_data]   Package wordnet is already up-to-date!\n"
     ]
    },
    {
     "data": {
      "text/plain": [
       "True"
      ]
     },
     "execution_count": 1,
     "metadata": {},
     "output_type": "execute_result"
    }
   ],
   "source": [
    "# import libraries\n",
    "import pandas as pd\n",
    "import numpy as np\n",
    "import sqlite3\n",
    "from sqlalchemy import create_engine\n",
    "import re\n",
    "import joblib\n",
    "import nltk\n",
    "from nltk.corpus import stopwords\n",
    "from nltk.stem.wordnet import WordNetLemmatizer\n",
    "from nltk.stem import PorterStemmer\n",
    "from sklearn.model_selection import train_test_split\n",
    "from sklearn.pipeline import Pipeline\n",
    "from sklearn.multioutput import MultiOutputClassifier\n",
    "from sklearn.ensemble import RandomForestClassifier\n",
    "from sklearn.neighbors import KNeighborsClassifier\n",
    "from sklearn.tree import ExtraTreeClassifier\n",
    "from sklearn.feature_extraction.text import CountVectorizer, TfidfTransformer\n",
    "from sklearn.model_selection import GridSearchCV\n",
    "from sklearn.metrics import classification_report\n",
    "from sklearn.metrics import precision_recall_fscore_support\n",
    "from sklearn.naive_bayes import BernoulliNB\n",
    "\n",
    "\n",
    "nltk.download('punkt')\n",
    "nltk.download('stopwords')\n",
    "nltk.download('wordnet')"
   ]
  },
  {
   "cell_type": "code",
   "execution_count": 2,
   "metadata": {},
   "outputs": [],
   "source": [
    "# load data from database\n",
    "engine = create_engine('sqlite:///DisasterResponse.db')\n",
    "df = pd.read_sql('select * from DisasterResponse', con=engine)\n",
    "X = df.iloc[:,1]\n",
    "Y = df.iloc[:,4:]"
   ]
  },
  {
   "cell_type": "markdown",
   "metadata": {},
   "source": [
    "### 2. Write a tokenization function to process your text data"
   ]
  },
  {
   "cell_type": "code",
   "execution_count": 3,
   "metadata": {},
   "outputs": [],
   "source": [
    "def tokenize(text):\n",
    "    # Convert to lowercase\n",
    "    text = text.lower()\n",
    "    # Remove punctuation characters\n",
    "    text = re.sub(r\"[^a-zA-Z0-9]\", \" \", text)\n",
    "    # Tokenize into words\n",
    "    tokens = nltk.word_tokenize(text)\n",
    "    # Remove stopwords\n",
    "    words = [x for x in tokens if x not in stopwords.words(\"english\")]\n",
    "    # Reduce words to their stems\n",
    "    stemmer = PorterStemmer()\n",
    "    stemmed = [stemmer.stem(w) for w in words]\n",
    "    # Lemmatize\n",
    "    lemmatizer = WordNetLemmatizer()\n",
    "    lemmatized = [lemmatizer.lemmatize(word) for word in stemmed]\n",
    "    return lemmatized"
   ]
  },
  {
   "cell_type": "markdown",
   "metadata": {},
   "source": [
    "### 3. Build a machine learning pipeline\n",
    "This machine pipeline should take in the `message` column as input and output classification results on the other 36 categories in the dataset. You may find the [MultiOutputClassifier](http://scikit-learn.org/stable/modules/generated/sklearn.multioutput.MultiOutputClassifier.html) helpful for predicting multiple target variables."
   ]
  },
  {
   "cell_type": "code",
   "execution_count": 4,
   "metadata": {},
   "outputs": [],
   "source": [
    "pipeline = Pipeline([('vect', CountVectorizer(tokenizer=tokenize)),\n",
    "                     ('tfidf', TfidfTransformer()),\n",
    "                     ('clf', MultiOutputClassifier(RandomForestClassifier(n_jobs=-1))),\n",
    "                    ])"
   ]
  },
  {
   "cell_type": "code",
   "execution_count": 5,
   "metadata": {},
   "outputs": [
    {
     "data": {
      "text/plain": [
       "dict_keys(['memory', 'steps', 'verbose', 'vect', 'tfidf', 'clf', 'vect__analyzer', 'vect__binary', 'vect__decode_error', 'vect__dtype', 'vect__encoding', 'vect__input', 'vect__lowercase', 'vect__max_df', 'vect__max_features', 'vect__min_df', 'vect__ngram_range', 'vect__preprocessor', 'vect__stop_words', 'vect__strip_accents', 'vect__token_pattern', 'vect__tokenizer', 'vect__vocabulary', 'tfidf__norm', 'tfidf__smooth_idf', 'tfidf__sublinear_tf', 'tfidf__use_idf', 'clf__estimator__bootstrap', 'clf__estimator__ccp_alpha', 'clf__estimator__class_weight', 'clf__estimator__criterion', 'clf__estimator__max_depth', 'clf__estimator__max_features', 'clf__estimator__max_leaf_nodes', 'clf__estimator__max_samples', 'clf__estimator__min_impurity_decrease', 'clf__estimator__min_impurity_split', 'clf__estimator__min_samples_leaf', 'clf__estimator__min_samples_split', 'clf__estimator__min_weight_fraction_leaf', 'clf__estimator__n_estimators', 'clf__estimator__n_jobs', 'clf__estimator__oob_score', 'clf__estimator__random_state', 'clf__estimator__verbose', 'clf__estimator__warm_start', 'clf__estimator', 'clf__n_jobs'])"
      ]
     },
     "execution_count": 5,
     "metadata": {},
     "output_type": "execute_result"
    }
   ],
   "source": [
    "pipeline.get_params().keys()"
   ]
  },
  {
   "cell_type": "markdown",
   "metadata": {},
   "source": [
    "### 4. Train pipeline\n",
    "- Split data into train and test sets\n",
    "- Train pipeline"
   ]
  },
  {
   "cell_type": "code",
   "execution_count": 6,
   "metadata": {},
   "outputs": [
    {
     "data": {
      "text/plain": [
       "Pipeline(memory=None,\n",
       "         steps=[('vect',\n",
       "                 CountVectorizer(analyzer='word', binary=False,\n",
       "                                 decode_error='strict',\n",
       "                                 dtype=<class 'numpy.int64'>, encoding='utf-8',\n",
       "                                 input='content', lowercase=True, max_df=1.0,\n",
       "                                 max_features=None, min_df=1,\n",
       "                                 ngram_range=(1, 1), preprocessor=None,\n",
       "                                 stop_words=None, strip_accents=None,\n",
       "                                 token_pattern='(?u)\\\\b\\\\w\\\\w+\\\\b',\n",
       "                                 tokenizer=<function tokenize at...\n",
       "                                                                        ccp_alpha=0.0,\n",
       "                                                                        class_weight=None,\n",
       "                                                                        criterion='gini',\n",
       "                                                                        max_depth=None,\n",
       "                                                                        max_features='auto',\n",
       "                                                                        max_leaf_nodes=None,\n",
       "                                                                        max_samples=None,\n",
       "                                                                        min_impurity_decrease=0.0,\n",
       "                                                                        min_impurity_split=None,\n",
       "                                                                        min_samples_leaf=1,\n",
       "                                                                        min_samples_split=2,\n",
       "                                                                        min_weight_fraction_leaf=0.0,\n",
       "                                                                        n_estimators=100,\n",
       "                                                                        n_jobs=-1,\n",
       "                                                                        oob_score=False,\n",
       "                                                                        random_state=None,\n",
       "                                                                        verbose=0,\n",
       "                                                                        warm_start=False),\n",
       "                                       n_jobs=None))],\n",
       "         verbose=False)"
      ]
     },
     "execution_count": 6,
     "metadata": {},
     "output_type": "execute_result"
    }
   ],
   "source": [
    "# Split into train and test sample\n",
    "Xtrain, Xtest, ytrain, ytest = train_test_split(X, Y, test_size=0.33, random_state=13)\n",
    "\n",
    "# train classifier\n",
    "pipeline.fit(Xtrain, ytrain)"
   ]
  },
  {
   "cell_type": "markdown",
   "metadata": {},
   "source": [
    "### 5. Test your model\n",
    "Report the f1 score, precision and recall for each output category of the dataset. You can do this by iterating through the columns and calling sklearn's `classification_report` on each."
   ]
  },
  {
   "cell_type": "code",
   "execution_count": 7,
   "metadata": {
    "scrolled": true
   },
   "outputs": [
    {
     "name": "stdout",
     "output_type": "stream",
     "text": [
      "                        precision    recall  f1-score   support\n",
      "\n",
      "               related       0.50      0.26      0.34        58\n",
      "               request       0.82      0.48      0.60      1449\n",
      "                 offer       0.00      0.00      0.00        36\n",
      "           aid_related       0.76      0.69      0.72      3572\n",
      "          medical_help       0.67      0.06      0.12       696\n",
      "      medical_products       0.73      0.08      0.14       421\n",
      "     search_and_rescue       0.67      0.05      0.09       244\n",
      "              security       0.00      0.00      0.00       149\n",
      "              military       0.61      0.05      0.10       270\n",
      "           child_alone       0.00      0.00      0.00         0\n",
      "                 water       0.89      0.35      0.50       533\n",
      "                  food       0.85      0.58      0.69       977\n",
      "               shelter       0.82      0.39      0.53       752\n",
      "              clothing       0.70      0.11      0.20       123\n",
      "                 money       0.71      0.03      0.05       189\n",
      "        missing_people       0.50      0.01      0.02       103\n",
      "              refugees       0.50      0.01      0.03       295\n",
      "                 death       0.85      0.10      0.17       409\n",
      "             other_aid       0.66      0.04      0.07      1168\n",
      "infrastructure_related       0.25      0.00      0.00       553\n",
      "             transport       0.74      0.08      0.14       406\n",
      "             buildings       0.83      0.15      0.26       436\n",
      "           electricity       0.70      0.04      0.07       181\n",
      "                 tools       0.00      0.00      0.00        49\n",
      "             hospitals       0.00      0.00      0.00       104\n",
      "                 shops       0.00      0.00      0.00        33\n",
      "           aid_centers       0.00      0.00      0.00       105\n",
      "  other_infrastructure       0.00      0.00      0.00       366\n",
      "       weather_related       0.84      0.71      0.77      2387\n",
      "                floods       0.88      0.49      0.63       699\n",
      "                 storm       0.77      0.51      0.61       824\n",
      "                  fire       0.00      0.00      0.00        93\n",
      "            earthquake       0.90      0.80      0.84       791\n",
      "                  cold       0.82      0.08      0.15       172\n",
      "         other_weather       0.50      0.02      0.03       442\n",
      "         direct_report       0.79      0.35      0.49      1646\n",
      "\n",
      "             micro avg       0.81      0.40      0.53     20731\n",
      "             macro avg       0.54      0.18      0.23     20731\n",
      "          weighted avg       0.73      0.40      0.47     20731\n",
      "           samples avg       0.41      0.24      0.28     20731\n",
      "\n"
     ]
    },
    {
     "name": "stderr",
     "output_type": "stream",
     "text": [
      "C:\\Users\\Noemi Ramiro\\Anaconda3\\lib\\site-packages\\sklearn\\metrics\\_classification.py:1272: UndefinedMetricWarning: Precision and F-score are ill-defined and being set to 0.0 in labels with no predicted samples. Use `zero_division` parameter to control this behavior.\n",
      "  _warn_prf(average, modifier, msg_start, len(result))\n",
      "C:\\Users\\Noemi Ramiro\\Anaconda3\\lib\\site-packages\\sklearn\\metrics\\_classification.py:1272: UndefinedMetricWarning: Recall and F-score are ill-defined and being set to 0.0 in labels with no true samples. Use `zero_division` parameter to control this behavior.\n",
      "  _warn_prf(average, modifier, msg_start, len(result))\n",
      "C:\\Users\\Noemi Ramiro\\Anaconda3\\lib\\site-packages\\sklearn\\metrics\\_classification.py:1272: UndefinedMetricWarning: Precision and F-score are ill-defined and being set to 0.0 in samples with no predicted labels. Use `zero_division` parameter to control this behavior.\n",
      "  _warn_prf(average, modifier, msg_start, len(result))\n",
      "C:\\Users\\Noemi Ramiro\\Anaconda3\\lib\\site-packages\\sklearn\\metrics\\_classification.py:1272: UndefinedMetricWarning: Recall and F-score are ill-defined and being set to 0.0 in samples with no true labels. Use `zero_division` parameter to control this behavior.\n",
      "  _warn_prf(average, modifier, msg_start, len(result))\n"
     ]
    }
   ],
   "source": [
    "ypred = pipeline.predict(Xtest)\n",
    "\n",
    "print(classification_report(ytest, ypred, target_names=Y.columns.values))"
   ]
  },
  {
   "cell_type": "markdown",
   "metadata": {},
   "source": [
    "### 6. Improve your model\n",
    "Use grid search to find better parameters. "
   ]
  },
  {
   "cell_type": "code",
   "execution_count": 8,
   "metadata": {},
   "outputs": [
    {
     "name": "stdout",
     "output_type": "stream",
     "text": [
      "GridSearchCV(cv=None, error_score=nan,\n",
      "             estimator=Pipeline(memory=None,\n",
      "                                steps=[('vect',\n",
      "                                        CountVectorizer(analyzer='word',\n",
      "                                                        binary=False,\n",
      "                                                        decode_error='strict',\n",
      "                                                        dtype=<class 'numpy.int64'>,\n",
      "                                                        encoding='utf-8',\n",
      "                                                        input='content',\n",
      "                                                        lowercase=True,\n",
      "                                                        max_df=1.0,\n",
      "                                                        max_features=None,\n",
      "                                                        min_df=1,\n",
      "                                                        ngram_range=(1, 1),\n",
      "                                                        preprocessor=None,\n",
      "                                                        stop_words=None,\n",
      "                                                        strip_accents=None,\n",
      "                                                        token_pattern='(...\n",
      "                                                                                               min_samples_split=2,\n",
      "                                                                                               min_weight_fraction_leaf=0.0,\n",
      "                                                                                               n_estimators=100,\n",
      "                                                                                               n_jobs=-1,\n",
      "                                                                                               oob_score=False,\n",
      "                                                                                               random_state=None,\n",
      "                                                                                               verbose=0,\n",
      "                                                                                               warm_start=False),\n",
      "                                                              n_jobs=None))],\n",
      "                                verbose=False),\n",
      "             iid='deprecated', n_jobs=None,\n",
      "             param_grid={'vect__max_df': (0.5, 0.75, 1.0),\n",
      "                         'vect__ngram_range': ((1, 1), (1, 2))},\n",
      "             pre_dispatch='2*n_jobs', refit=True, return_train_score=False,\n",
      "             scoring=None, verbose=0)\n"
     ]
    }
   ],
   "source": [
    "parameters = {\n",
    "    'vect__ngram_range': ((1, 1), (1, 2)),\n",
    "    'vect__max_df': (0.5, 0.75, 1.0)\n",
    "}\n",
    "cv = GridSearchCV(pipeline, param_grid=parameters)\n",
    "print(cv)"
   ]
  },
  {
   "cell_type": "markdown",
   "metadata": {},
   "source": [
    "### 7. Test your model\n",
    "Show the accuracy, precision, and recall of the tuned model.  \n",
    "\n",
    "Since this project focuses on code quality, process, and  pipelines, there is no minimum performance metric needed to pass. However, make sure to fine tune your models for accuracy, precision and recall to make your project stand out - especially for your portfolio!"
   ]
  },
  {
   "cell_type": "code",
   "execution_count": 9,
   "metadata": {},
   "outputs": [
    {
     "data": {
      "text/plain": [
       "GridSearchCV(cv=None, error_score=nan,\n",
       "             estimator=Pipeline(memory=None,\n",
       "                                steps=[('vect',\n",
       "                                        CountVectorizer(analyzer='word',\n",
       "                                                        binary=False,\n",
       "                                                        decode_error='strict',\n",
       "                                                        dtype=<class 'numpy.int64'>,\n",
       "                                                        encoding='utf-8',\n",
       "                                                        input='content',\n",
       "                                                        lowercase=True,\n",
       "                                                        max_df=1.0,\n",
       "                                                        max_features=None,\n",
       "                                                        min_df=1,\n",
       "                                                        ngram_range=(1, 1),\n",
       "                                                        preprocessor=None,\n",
       "                                                        stop_words=None,\n",
       "                                                        strip_accents=None,\n",
       "                                                        token_pattern='(...\n",
       "                                                                                               min_samples_split=2,\n",
       "                                                                                               min_weight_fraction_leaf=0.0,\n",
       "                                                                                               n_estimators=100,\n",
       "                                                                                               n_jobs=-1,\n",
       "                                                                                               oob_score=False,\n",
       "                                                                                               random_state=None,\n",
       "                                                                                               verbose=0,\n",
       "                                                                                               warm_start=False),\n",
       "                                                              n_jobs=None))],\n",
       "                                verbose=False),\n",
       "             iid='deprecated', n_jobs=None,\n",
       "             param_grid={'vect__max_df': (0.5, 0.75, 1.0),\n",
       "                         'vect__ngram_range': ((1, 1), (1, 2))},\n",
       "             pre_dispatch='2*n_jobs', refit=True, return_train_score=False,\n",
       "             scoring=None, verbose=0)"
      ]
     },
     "execution_count": 9,
     "metadata": {},
     "output_type": "execute_result"
    }
   ],
   "source": [
    "Xtrain, Xtest, ytrain, ytest = train_test_split(X, Y, test_size=0.33, random_state=13)\n",
    "cv.fit(Xtrain, ytrain)"
   ]
  },
  {
   "cell_type": "code",
   "execution_count": 10,
   "metadata": {},
   "outputs": [
    {
     "name": "stdout",
     "output_type": "stream",
     "text": [
      "                        precision    recall  f1-score   support\n",
      "\n",
      "               related       0.44      0.24      0.31        58\n",
      "               request       0.82      0.47      0.60      1449\n",
      "                 offer       0.00      0.00      0.00        36\n",
      "           aid_related       0.78      0.63      0.70      3572\n",
      "          medical_help       0.67      0.04      0.08       696\n",
      "      medical_products       0.75      0.08      0.14       421\n",
      "     search_and_rescue       0.82      0.07      0.14       244\n",
      "              security       0.00      0.00      0.00       149\n",
      "              military       0.60      0.03      0.06       270\n",
      "           child_alone       0.00      0.00      0.00         0\n",
      "                 water       0.92      0.35      0.51       533\n",
      "                  food       0.87      0.50      0.64       977\n",
      "               shelter       0.81      0.29      0.43       752\n",
      "              clothing       0.67      0.10      0.17       123\n",
      "                 money       0.89      0.04      0.08       189\n",
      "        missing_people       0.00      0.00      0.00       103\n",
      "              refugees       0.75      0.02      0.04       295\n",
      "                 death       0.86      0.11      0.19       409\n",
      "             other_aid       0.69      0.04      0.08      1168\n",
      "infrastructure_related       0.17      0.00      0.00       553\n",
      "             transport       0.78      0.03      0.07       406\n",
      "             buildings       0.81      0.12      0.21       436\n",
      "           electricity       0.50      0.01      0.02       181\n",
      "                 tools       0.00      0.00      0.00        49\n",
      "             hospitals       0.00      0.00      0.00       104\n",
      "                 shops       0.00      0.00      0.00        33\n",
      "           aid_centers       0.00      0.00      0.00       105\n",
      "  other_infrastructure       0.25      0.00      0.01       366\n",
      "       weather_related       0.85      0.63      0.72      2387\n",
      "                floods       0.87      0.39      0.54       699\n",
      "                 storm       0.77      0.38      0.51       824\n",
      "                  fire       0.00      0.00      0.00        93\n",
      "            earthquake       0.89      0.77      0.83       791\n",
      "                  cold       0.71      0.06      0.11       172\n",
      "         other_weather       0.47      0.02      0.03       442\n",
      "         direct_report       0.80      0.34      0.47      1646\n",
      "\n",
      "             micro avg       0.82      0.36      0.50     20731\n",
      "             macro avg       0.53      0.16      0.21     20731\n",
      "          weighted avg       0.74      0.36      0.44     20731\n",
      "           samples avg       0.39      0.21      0.26     20731\n",
      "\n"
     ]
    },
    {
     "name": "stderr",
     "output_type": "stream",
     "text": [
      "C:\\Users\\Noemi Ramiro\\Anaconda3\\lib\\site-packages\\sklearn\\metrics\\_classification.py:1272: UndefinedMetricWarning: Precision and F-score are ill-defined and being set to 0.0 in labels with no predicted samples. Use `zero_division` parameter to control this behavior.\n",
      "  _warn_prf(average, modifier, msg_start, len(result))\n",
      "C:\\Users\\Noemi Ramiro\\Anaconda3\\lib\\site-packages\\sklearn\\metrics\\_classification.py:1272: UndefinedMetricWarning: Recall and F-score are ill-defined and being set to 0.0 in labels with no true samples. Use `zero_division` parameter to control this behavior.\n",
      "  _warn_prf(average, modifier, msg_start, len(result))\n",
      "C:\\Users\\Noemi Ramiro\\Anaconda3\\lib\\site-packages\\sklearn\\metrics\\_classification.py:1272: UndefinedMetricWarning: Precision and F-score are ill-defined and being set to 0.0 in samples with no predicted labels. Use `zero_division` parameter to control this behavior.\n",
      "  _warn_prf(average, modifier, msg_start, len(result))\n",
      "C:\\Users\\Noemi Ramiro\\Anaconda3\\lib\\site-packages\\sklearn\\metrics\\_classification.py:1272: UndefinedMetricWarning: Recall and F-score are ill-defined and being set to 0.0 in samples with no true labels. Use `zero_division` parameter to control this behavior.\n",
      "  _warn_prf(average, modifier, msg_start, len(result))\n"
     ]
    }
   ],
   "source": [
    "ypred_cv = cv.predict(Xtest)\n",
    "print(classification_report(ytest, ypred_cv, target_names=Y.columns))"
   ]
  },
  {
   "cell_type": "markdown",
   "metadata": {},
   "source": [
    "### 8. Try improving your model further. Here are a few ideas:\n",
    "* try other machine learning algorithms\n",
    "* add other features besides the TF-IDF"
   ]
  },
  {
   "cell_type": "code",
   "execution_count": 11,
   "metadata": {},
   "outputs": [
    {
     "name": "stdout",
     "output_type": "stream",
     "text": [
      "                        precision    recall  f1-score   support\n",
      "\n",
      "               related       0.22      0.31      0.26        58\n",
      "               request       0.81      0.02      0.04      1449\n",
      "                 offer       0.00      0.00      0.00        36\n",
      "           aid_related       0.62      0.01      0.02      3572\n",
      "          medical_help       0.00      0.00      0.00       696\n",
      "      medical_products       0.33      0.00      0.01       421\n",
      "     search_and_rescue       0.00      0.00      0.00       244\n",
      "              security       0.00      0.00      0.00       149\n",
      "              military       0.00      0.00      0.00       270\n",
      "           child_alone       0.00      0.00      0.00         0\n",
      "                 water       1.00      0.02      0.03       533\n",
      "                  food       0.76      0.01      0.03       977\n",
      "               shelter       0.57      0.01      0.01       752\n",
      "              clothing       0.25      0.01      0.02       123\n",
      "                 money       1.00      0.02      0.03       189\n",
      "        missing_people       0.00      0.00      0.00       103\n",
      "              refugees       0.00      0.00      0.00       295\n",
      "                 death       1.00      0.00      0.00       409\n",
      "             other_aid       0.55      0.01      0.01      1168\n",
      "infrastructure_related       0.00      0.00      0.00       553\n",
      "             transport       0.00      0.00      0.00       406\n",
      "             buildings       0.00      0.00      0.00       436\n",
      "           electricity       0.00      0.00      0.00       181\n",
      "                 tools       0.00      0.00      0.00        49\n",
      "             hospitals       0.00      0.00      0.00       104\n",
      "                 shops       0.00      0.00      0.00        33\n",
      "           aid_centers       0.00      0.00      0.00       105\n",
      "  other_infrastructure       0.00      0.00      0.00       366\n",
      "       weather_related       0.86      0.03      0.06      2387\n",
      "                floods       0.00      0.00      0.00       699\n",
      "                 storm       1.00      0.00      0.01       824\n",
      "                  fire       0.00      0.00      0.00        93\n",
      "            earthquake       0.86      0.08      0.14       791\n",
      "                  cold       0.33      0.01      0.01       172\n",
      "         other_weather       0.50      0.00      0.01       442\n",
      "         direct_report       0.73      0.01      0.02      1646\n",
      "\n",
      "             micro avg       0.66      0.01      0.03     20731\n",
      "             macro avg       0.32      0.02      0.02     20731\n",
      "          weighted avg       0.56      0.01      0.02     20731\n",
      "           samples avg       0.01      0.01      0.01     20731\n",
      "\n"
     ]
    },
    {
     "name": "stderr",
     "output_type": "stream",
     "text": [
      "C:\\Users\\Noemi Ramiro\\Anaconda3\\lib\\site-packages\\sklearn\\metrics\\_classification.py:1272: UndefinedMetricWarning: Precision and F-score are ill-defined and being set to 0.0 in labels with no predicted samples. Use `zero_division` parameter to control this behavior.\n",
      "  _warn_prf(average, modifier, msg_start, len(result))\n",
      "C:\\Users\\Noemi Ramiro\\Anaconda3\\lib\\site-packages\\sklearn\\metrics\\_classification.py:1272: UndefinedMetricWarning: Recall and F-score are ill-defined and being set to 0.0 in labels with no true samples. Use `zero_division` parameter to control this behavior.\n",
      "  _warn_prf(average, modifier, msg_start, len(result))\n",
      "C:\\Users\\Noemi Ramiro\\Anaconda3\\lib\\site-packages\\sklearn\\metrics\\_classification.py:1272: UndefinedMetricWarning: Precision and F-score are ill-defined and being set to 0.0 in samples with no predicted labels. Use `zero_division` parameter to control this behavior.\n",
      "  _warn_prf(average, modifier, msg_start, len(result))\n",
      "C:\\Users\\Noemi Ramiro\\Anaconda3\\lib\\site-packages\\sklearn\\metrics\\_classification.py:1272: UndefinedMetricWarning: Recall and F-score are ill-defined and being set to 0.0 in samples with no true labels. Use `zero_division` parameter to control this behavior.\n",
      "  _warn_prf(average, modifier, msg_start, len(result))\n"
     ]
    }
   ],
   "source": [
    "pipeline = Pipeline([('vect', CountVectorizer(tokenizer=tokenize)),\n",
    "                     ('tfidf', TfidfTransformer()),\n",
    "                     ('clf', MultiOutputClassifier(KNeighborsClassifier()))])\n",
    "\n",
    "parameters = {\n",
    "    'vect__ngram_range': ((1, 1), (1, 2)),\n",
    "    'vect__max_df': (0.5, 0.75, 1.0)\n",
    "}\n",
    "\n",
    "knn_clf = GridSearchCV(pipeline, param_grid=parameters,n_jobs=-1)\n",
    "knn_clf = knn_clf.fit(Xtrain, ytrain)\n",
    "\n",
    "knn_ypred = knn_clf.predict(Xtest)\n",
    "\n",
    "print(classification_report(ytest, knn_ypred, target_names=Y.columns))"
   ]
  },
  {
   "cell_type": "code",
   "execution_count": 12,
   "metadata": {},
   "outputs": [
    {
     "name": "stdout",
     "output_type": "stream",
     "text": [
      "                        precision    recall  f1-score   support\n",
      "\n",
      "               related       0.00      0.00      0.00        58\n",
      "               request       0.75      0.01      0.02      1449\n",
      "                 offer       0.00      0.00      0.00        36\n",
      "           aid_related       0.83      0.26      0.40      3572\n",
      "          medical_help       0.69      0.03      0.06       696\n",
      "      medical_products       0.54      0.03      0.06       421\n",
      "     search_and_rescue       0.15      0.01      0.02       244\n",
      "              security       0.12      0.01      0.02       149\n",
      "              military       0.21      0.02      0.03       270\n",
      "           child_alone       0.00      0.00      0.00         0\n",
      "                 water       0.54      0.03      0.05       533\n",
      "                  food       0.48      0.02      0.03       977\n",
      "               shelter       0.48      0.02      0.04       752\n",
      "              clothing       0.15      0.02      0.03       123\n",
      "                 money       0.19      0.02      0.04       189\n",
      "        missing_people       0.00      0.00      0.00       103\n",
      "              refugees       0.38      0.03      0.06       295\n",
      "                 death       0.48      0.03      0.06       409\n",
      "             other_aid       0.26      0.01      0.02      1168\n",
      "infrastructure_related       0.46      0.02      0.04       553\n",
      "             transport       0.37      0.02      0.05       406\n",
      "             buildings       0.44      0.03      0.05       436\n",
      "           electricity       0.28      0.03      0.05       181\n",
      "                 tools       0.00      0.00      0.00        49\n",
      "             hospitals       0.00      0.00      0.00       104\n",
      "                 shops       0.33      0.03      0.06        33\n",
      "           aid_centers       0.33      0.04      0.07       105\n",
      "  other_infrastructure       0.26      0.02      0.04       366\n",
      "       weather_related       0.88      0.15      0.26      2387\n",
      "                floods       0.80      0.04      0.08       699\n",
      "                 storm       0.68      0.03      0.05       824\n",
      "                  fire       0.30      0.03      0.06        93\n",
      "            earthquake       0.48      0.02      0.04       791\n",
      "                  cold       0.33      0.03      0.06       172\n",
      "         other_weather       0.22      0.01      0.03       442\n",
      "         direct_report       0.77      0.01      0.02      1646\n",
      "\n",
      "             micro avg       0.71      0.08      0.14     20731\n",
      "             macro avg       0.37      0.03      0.05     20731\n",
      "          weighted avg       0.60      0.08      0.13     20731\n",
      "           samples avg       0.13      0.04      0.05     20731\n",
      "\n"
     ]
    },
    {
     "name": "stderr",
     "output_type": "stream",
     "text": [
      "C:\\Users\\Noemi Ramiro\\Anaconda3\\lib\\site-packages\\sklearn\\metrics\\_classification.py:1272: UndefinedMetricWarning: Precision and F-score are ill-defined and being set to 0.0 in labels with no predicted samples. Use `zero_division` parameter to control this behavior.\n",
      "  _warn_prf(average, modifier, msg_start, len(result))\n",
      "C:\\Users\\Noemi Ramiro\\Anaconda3\\lib\\site-packages\\sklearn\\metrics\\_classification.py:1272: UndefinedMetricWarning: Recall and F-score are ill-defined and being set to 0.0 in labels with no true samples. Use `zero_division` parameter to control this behavior.\n",
      "  _warn_prf(average, modifier, msg_start, len(result))\n",
      "C:\\Users\\Noemi Ramiro\\Anaconda3\\lib\\site-packages\\sklearn\\metrics\\_classification.py:1272: UndefinedMetricWarning: Precision and F-score are ill-defined and being set to 0.0 in samples with no predicted labels. Use `zero_division` parameter to control this behavior.\n",
      "  _warn_prf(average, modifier, msg_start, len(result))\n",
      "C:\\Users\\Noemi Ramiro\\Anaconda3\\lib\\site-packages\\sklearn\\metrics\\_classification.py:1272: UndefinedMetricWarning: Recall and F-score are ill-defined and being set to 0.0 in samples with no true labels. Use `zero_division` parameter to control this behavior.\n",
      "  _warn_prf(average, modifier, msg_start, len(result))\n"
     ]
    }
   ],
   "source": [
    "pipeline = Pipeline([('vect', CountVectorizer(tokenizer=tokenize)),\n",
    "                     ('tfidf', TfidfTransformer()),\n",
    "                     ('clf', MultiOutputClassifier(BernoulliNB()))])\n",
    "\n",
    "parameters = {'vect__max_df': (0.5, 0.75, 1.0),\n",
    "            'vect__ngram_range': ((1, 1), (1,2)),\n",
    "            'vect__max_features': (None, 5000,10000),\n",
    "            'tfidf__use_idf': (True, False)}\n",
    "\n",
    "bernoulli_clf = GridSearchCV(pipeline, param_grid=parameters,n_jobs=-1)\n",
    "bernoulli_clf = bernoulli_clf.fit(Xtrain, ytrain)\n",
    "\n",
    "bernoulli_ypred = bernoulli_clf.predict(Xtest)\n",
    "\n",
    "print(classification_report(ytest, bernoulli_ypred, target_names=Y.columns))"
   ]
  },
  {
   "cell_type": "markdown",
   "metadata": {},
   "source": [
    "### 9. Export your model as a pickle file"
   ]
  },
  {
   "cell_type": "code",
   "execution_count": 13,
   "metadata": {},
   "outputs": [
    {
     "data": {
      "text/plain": [
       "['random_forest_best.pkl']"
      ]
     },
     "execution_count": 13,
     "metadata": {},
     "output_type": "execute_result"
    }
   ],
   "source": [
    "joblib.dump(cv.best_estimator_, 'random_forest_best.pkl')"
   ]
  },
  {
   "cell_type": "markdown",
   "metadata": {},
   "source": [
    "### 10. Use this notebook to complete `train.py`\n",
    "Use the template file attached in the Resources folder to write a script that runs the steps above to create a database and export a model based on a new dataset specified by the user."
   ]
  },
  {
   "cell_type": "code",
   "execution_count": null,
   "metadata": {},
   "outputs": [],
   "source": []
  }
 ],
 "metadata": {
  "kernelspec": {
   "display_name": "Python 3",
   "language": "python",
   "name": "python3"
  },
  "language_info": {
   "codemirror_mode": {
    "name": "ipython",
    "version": 3
   },
   "file_extension": ".py",
   "mimetype": "text/x-python",
   "name": "python",
   "nbconvert_exporter": "python",
   "pygments_lexer": "ipython3",
   "version": "3.7.6"
  }
 },
 "nbformat": 4,
 "nbformat_minor": 2
}
